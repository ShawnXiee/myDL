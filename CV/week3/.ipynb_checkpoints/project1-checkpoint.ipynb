{
 "cells": [
  {
   "cell_type": "code",
   "execution_count": 3,
   "metadata": {},
   "outputs": [],
   "source": [
    "import pandas as pd\n",
    "import cv2\n",
    "import os\n",
    "import os.path as osp"
   ]
  },
  {
   "cell_type": "code",
   "execution_count": 4,
   "metadata": {},
   "outputs": [
    {
     "data": {
      "text/plain": [
       "['ColorImage_road03', 'ColorImage_road04', 'ColorImage_road02']"
      ]
     },
     "execution_count": 4,
     "metadata": {},
     "output_type": "execute_result"
    }
   ],
   "source": [
    "label_dir = '/Users/zhuheng/workspace/zhuheng/myDL/week4/dataset/Gray_Label'\n",
    "image_dir = '/Users/zhuheng/workspace/zhuheng/myDL/week4/dataset/Image_Data'\n",
    "img_road_pre = 'ColorImage'\n",
    "label_road_pre = 'Label'\n",
    "img_suffix = '.jpg'\n",
    "label_suffix = '_bin.png'\n",
    "def make_list(image_dir, label_dir):\n",
    "    for road_dir in os.listdir(image_dir):\n",
    "        r"
   ]
  },
  {
   "cell_type": "code",
   "execution_count": null,
   "metadata": {},
   "outputs": [],
   "source": []
  }
 ],
 "metadata": {
  "kernelspec": {
   "display_name": "Python 3",
   "language": "python",
   "name": "python3"
  },
  "language_info": {
   "codemirror_mode": {
    "name": "ipython",
    "version": 3
   },
   "file_extension": ".py",
   "mimetype": "text/x-python",
   "name": "python",
   "nbconvert_exporter": "python",
   "pygments_lexer": "ipython3",
   "version": "3.7.3"
  }
 },
 "nbformat": 4,
 "nbformat_minor": 2
}
